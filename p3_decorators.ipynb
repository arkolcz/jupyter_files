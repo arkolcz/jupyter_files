{
 "cells": [
  {
   "cell_type": "code",
   "execution_count": 2,
   "metadata": {},
   "outputs": [],
   "source": [
    "# Decorators in Python \n",
    "# The purpose of the decorators is to do ceartin tasks when a function that is decorated is called"
   ]
  },
  {
   "cell_type": "code",
   "execution_count": 3,
   "metadata": {},
   "outputs": [],
   "source": [
    "# This is Higher Order Function(for example map(), reduce(), it means it takes other function as argument or return a function\n",
    "def welcome_decorator(f): \n",
    "    # Here we have wrapped function that will take any positional parameters or any keyword parameters from the decorated\n",
    "    def wrapper(*args, **kwargs): \n",
    "        print(\"Welcome!\")\n",
    "        # Call a decorated function\n",
    "        f(*args, **kwargs) \n",
    "        print(\"Bye!\")\n",
    "    return wrapper\n",
    "\n",
    "@welcome_decorator # Indication that this function will be decorated using @welcome_decorator\n",
    "def sum_up(a, b): \n",
    "    print(a + b)"
   ]
  },
  {
   "cell_type": "code",
   "execution_count": 4,
   "metadata": {},
   "outputs": [
    {
     "name": "stdout",
     "output_type": "stream",
     "text": [
      "Welcome!\n",
      "15\n",
      "Bye!\n"
     ]
    }
   ],
   "source": [
    "sum_up(5, 10)"
   ]
  },
  {
   "cell_type": "code",
   "execution_count": 1,
   "metadata": {},
   "outputs": [],
   "source": [
    "# Decorators in use in order to count performance\n",
    "from time import time\n",
    "def performance(f):\n",
    "    def wrapper(*args, **kwargs):\n",
    "        t1 = int(round(time() * 1000))\n",
    "        res = f(*args, **kwargs)\n",
    "        t2 = int(round(time() * 1000))\n",
    "        print(f'Execution took: {t2-t1}ms')\n",
    "        return res\n",
    "    return wrapper\n",
    "\n",
    "@performance\n",
    "def x():\n",
    "    for i in range(100000):\n",
    "        i**2"
   ]
  },
  {
   "cell_type": "code",
   "execution_count": 2,
   "metadata": {},
   "outputs": [
    {
     "name": "stdout",
     "output_type": "stream",
     "text": [
      "Execution took: 20ms\n"
     ]
    }
   ],
   "source": [
    "x()"
   ]
  },
  {
   "cell_type": "code",
   "execution_count": null,
   "metadata": {},
   "outputs": [],
   "source": []
  }
 ],
 "metadata": {
  "kernelspec": {
   "display_name": "Python 3",
   "language": "python",
   "name": "python3"
  },
  "language_info": {
   "codemirror_mode": {
    "name": "ipython",
    "version": 3
   },
   "file_extension": ".py",
   "mimetype": "text/x-python",
   "name": "python",
   "nbconvert_exporter": "python",
   "pygments_lexer": "ipython3",
   "version": "3.6.8"
  }
 },
 "nbformat": 4,
 "nbformat_minor": 2
}
